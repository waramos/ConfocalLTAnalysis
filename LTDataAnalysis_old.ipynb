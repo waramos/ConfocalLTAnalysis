{
 "cells": [
  {
   "cell_type": "markdown",
   "metadata": {},
   "source": [
    "# Line Trace Data Analysis Program\n",
    "\n",
    "## Setup: Importing the packages\n"
   ]
  },
  {
   "cell_type": "code",
   "execution_count": 1,
   "metadata": {},
   "outputs": [],
   "source": [
    "import os #os API for folder/file management\n",
    "import pandas as pd #pandas is an API that will help us import the csv files\n",
    "import numpy as np #an API that will allow us to create arrays and import scientific constants\n",
    "from numpy import mean\n",
    "import matplotlib.pyplot as plt #matplot/pyplot API for plotting\n",
    "from scipy.signal import argrelmax, argrelmin \n"
   ]
  },
  {
   "cell_type": "markdown",
   "metadata": {},
   "source": [
    "## Defining the Algorithms with functions\n",
    "\n",
    "#### Puncta Defining Function  \n",
    "The **puncta** function serves to clean up the \"raw\" line trace data further. Ok would have already removed the background in ImageJ prior to this step. The Python function, **puncta** serves to \n",
    "1. Calculate the background, $b$, as being equivalent to the average value of all local minima in the line trace.\n",
    "2. Establish the threshold, $t$, for puncta values as being equivalent to $2 \\times b$\n",
    "\n",
    "$\\therefore$ all values in $F_{LT, R}(x)=y<t$ would yield our redefined (clean) line trace data containing only the further validated puncta values, $F_{LT, C}(x)=y>=t$ after being put through the **puncta** Python function. This new dataset, $F_{LT, C}(x)$, will then be put through other functions to yield our numerical and statistical analysis.\n",
    "\n",
    "Technically the function below is only looking at one channel at a time so we can say that the input is $F_{LT, R, 1}(x)$ and the output is $F_{LT, C, 1}(x)$ (as an example) for Channel 1 (ST3 signal)."
   ]
  },
  {
   "cell_type": "code",
   "execution_count": 2,
   "metadata": {},
   "outputs": [],
   "source": [
    "#Defining Puncta\n",
    "def puncta(x, y):\n",
    "    #this function will cut out noise to only include signal that is considered a puncta based on its amplitude being greater than 2*baseline\n",
    "    list_relmin = argrelmin(y) #creates list containing all relative minima\n",
    "    y_rm = []\n",
    "    for pts in list_relmin:\n",
    "        y_rm.append(y[pts])\n",
    "    b = mean(y_rm) #averages the local min to approx. the baseline signal level\n",
    "    t = 2 * b\n",
    "    xlist = []\n",
    "    ylist = []\n",
    "    count = 0\n",
    "    for i in range(len(x)):\n",
    "        if y[i]>t:\n",
    "            xlist.append(x[i])\n",
    "            ylist.append(y[i])\n",
    "        else:\n",
    "            count += 1\n",
    "    #print(count, \"Values have been removed as they were below the threshold of Gray Value =\", t)\n",
    "    return xlist, ylist"
   ]
  },
  {
   "cell_type": "markdown",
   "metadata": {},
   "source": [
    "The next step was defining the centroids of each puncta. In order to do this, we first find the centroids by calculating them as all the relative maxima of $F_{LT, C, 1}(x)$. These values were then appended to an empty list, allowing us to refer to these values given their index which would then correspond to the index of a puncta defined as a list inside another list. \n",
    "Mathematically, $C = [c_0, c_1, c_2, ..., c_i]$ where $i$ is an index value and $P = [p_0, p_1, p_2, ..., p_i]$. The value $i$ is the number of puncta - 1 in any given line trace for a given channel where $p_i=[x_1, ...x_n]$ and $x_n$ is a coordinate with the unit of $\\mu~m$. The value $n$ describes how many data points make up a given puncta, $p_i$. \n",
    "\n",
    "A punctum was defined as all values between even and odd indexed relative minima of the clean line trace data. This was a feasible algorithm to apply given that gaps between puncta were introduced in addition to the naturally occuring relative minima that naturally need to exist between puncta in order for them to be separately defined."
   ]
  },
  {
   "cell_type": "code",
   "execution_count": 3,
   "metadata": {},
   "outputs": [],
   "source": [
    "def extrema(x, y, method):\n",
    "#This function will allow us to either find the relative maxima (centroid), or find the minima on either side of peaks from which we can then calculate the width (w) and approximate the centroid (c) by: x + w/2 = c where x is the first rel min, aka the left side of the peak\n",
    "    if method == \"max\":\n",
    "        maxi = argrelmax(np.array(y))[0]\n",
    "        list_maxi = []\n",
    "        for m in range(len(maxi)):\n",
    "            list_maxi.append(int(maxi[m]))\n",
    "        list_xmax = []\n",
    "        list_ymax = []\n",
    "        for k in list_maxi:\n",
    "            list_xmax.append(x[k])\n",
    "            list_ymax.append(y[k]) \n",
    "        return (list_xmax, list_ymax, maxi) #gives us coordinates as well as the indices\n",
    "    if method == \"min\":\n",
    "        #Gives rel minima\n",
    "        mini = argrelmin(np.array(y))[0]\n",
    "        list_mini = []\n",
    "        for n in range(len(mini)):\n",
    "            list_mini.append(int(mini[n]))\n",
    "        list_xmin = []\n",
    "        list_ymin = []\n",
    "        for l in list_mini:\n",
    "            list_xmin.append(x[l])\n",
    "            list_ymin.append(y[l])\n",
    "        return (list_xmin, list_ymin, mini) #tuples prevent the data from being altered\n",
    "    \n",
    "\n",
    "def defpeak(x, y):\n",
    "    #Takes the cleaned up data (baseline subtracted)\n",
    "    #from the rel min, we'll be able to find the widths by counting every other even # one as start and every other even one as an end\n",
    "    ind = extrema(x, y, method = \"min\")[2] #gives us the indices that are rel min.\n",
    "    peak_values = [] #*puncta values, ie all indices that describe a single puncta\n",
    "    list_puncta = [] #contains all peak value lists\n",
    "    \n",
    "    m1_centroids = extrema(x, y, method = \"max\") #gives rel max indices\n",
    "    xm1, ym1 = m1_centroids[0], m1_centroids[1] #Gives us the exact values for the rel max.\n",
    "    \n",
    "    #Lists containing all data points that comprise a puncta will be appended to a larger list\n",
    "    #will allow us to measure their width as well as find the centroid as the midpoint of the punta rather than as the peak or rel max.\n",
    "    for n in range(len(ind)):\n",
    "        if n == 0:\n",
    "            peak_values.append(int(ind[n]))\n",
    "        elif n!=0 and n%2 == 0:\n",
    "            #index of element in list is even\n",
    "            peak_values.append(int(ind[n])) #appended value is the index value where the peak starts\n",
    "        elif n%2 == 1:\n",
    "            peak_values.append(int(ind[n])) #appended value is the index value where the peak ends\n",
    "            vr = np.arange(peak_values[0], peak_values[1], 1)\n",
    "            list_puncta.append(vr.tolist())\n",
    "            #gives us all indices that will comprise the puncta as a list that is then appended to a larger list that will contain all of these puncta indice lists\n",
    "            peak_values = [] #resets the indice list\n",
    "    \n",
    "    sum_len = 0 #sum of all lengths\n",
    "    for p in range(len(list_puncta)): #p is the number of puncta in the list\n",
    "        sum_len += len(list_puncta[p])\n",
    "    avgw = (sum_len/len(list_puncta)) * 0.1315\n",
    "    \n",
    "    #puncta = list with values defined as part of the puncta\n",
    "    #RETURN: centroid x, centroid y, list of puncta, average width\n",
    "    return xm1, ym1, list_puncta, avgw #avga = average peak amplitude?\n"
   ]
  },
  {
   "cell_type": "markdown",
   "metadata": {},
   "source": [
    "#### Function to compare across two Channels within a line trace\n",
    "Note that L1 = $P_1 = [p_0, p_1, p_2, ..., p_i]$ and L2 = $P_2 = [p_0, p_1, p_2, ..., p_i]$ where the subscript denotes the channel (1=ST3 and 2=other channel being compared depending on experimental conditions)"
   ]
  },
  {
   "cell_type": "code",
   "execution_count": 4,
   "metadata": {},
   "outputs": [],
   "source": [
    "#note that c = xm\n",
    "def compare(L1, L2, xm1, xm2, x1, x2):\n",
    "    #note that L1, L2 are the puncta lists while xm1 and xm2 are the actual centroids\n",
    "    #any given index [i] should correspond to puncta, p_i, with centroid xm_i\n",
    "    #the values within p_i correspond to the indices within the original list (x1, y1 if L1 for example) that make up said puncta\n",
    "    #1, 2 of the simply denote the channel that the values correspond to\n",
    "    list_offset = []\n",
    "    for i1 in range(len(L1)):\n",
    "        for i2 in range(len(L2)):\n",
    "            p_n = [] #puncta values\n",
    "            p2_n = [] #puncta Ch2 values --> to be updated as we run thru all Ch2 puncta & check to see if they fit our conditions in order for offset to be considered between xm1_n of p_n and xm2_n of p2_n\n",
    "            #print(\"this is i1\", i1, \"this is i2\", i2)\n",
    "            for n in range(len(L1[i1])):\n",
    "                p_n.append(x1[L1[i1][n]]) #puncta 1 (p_n) defined (x coordinate value)\n",
    "            for n in range(len(L2[i2])):\n",
    "                p2_n.append(x2[L2[i2][n]]) #puncta 2 (p2_n) defined (x coordinate value)\n",
    "            #print(\"this is pn\", p_n, \"this is p2\", p2_n)\n",
    "\n",
    "            #Condition 1: minimum overlap of 2 data points\n",
    "            matchcount = 0\n",
    "            #perhaps i should instead consider that the x values dont exactly have to overlap and that instead the edges of puncta could be a certain distance away from each other (ie, the difference between at least two values has to be less than a micron (given that the average puncta width is no more than...say...a micron? --> then this could perhaps indeed be a valid way of setting the conditional !))\n",
    "            gap = []\n",
    "            for j1 in range(len(p_n)): #scans through all Ch1 puncta values\n",
    "                for j2 in range(len(p2_n)): #scans thru all Ch2 puncta values\n",
    "                    gap.append(abs(p_n[j1] - p2_n[j2]))\n",
    "                    if p_n[j1] == p2_n[j2]:\n",
    "                        matchcount += 1\n",
    "            if min(gap)<0.263 or matchcount<2:\n",
    "                #Condition 2: the offset cannot be more than 2 micron\n",
    "                off = xm1[i1] - xm2[i2]\n",
    "                #if negative, its to the right, if +, its to the left\n",
    "                if -2 < off < 2:\n",
    "                    list_offset.append(off)\n",
    "    return list_offset\n",
    "\n"
   ]
  },
  {
   "cell_type": "code",
   "execution_count": null,
   "metadata": {},
   "outputs": [],
   "source": []
  },
  {
   "cell_type": "code",
   "execution_count": 5,
   "metadata": {},
   "outputs": [],
   "source": [
    "#this function will take the previous functions of comparison and then apply them to conduct the analysis of the line trace data\n",
    "def ANALYSIS(path, condition):\n",
    "    os.chdir(path) #Set folder that we'll have the data in, for ease, it's either path_bic or path_con \n",
    "    list_offset = []\n",
    "    \n",
    "    for i in range(9):\n",
    "        for j in condition:\n",
    "            #reading in files\n",
    "            if \"Bicucculine\" in path:\n",
    "                filename = \"Bicucculine Field \" + str(i+1) + \"-\" + j +\".csv\" #dynamic file name allows us to go through all files\n",
    "            elif \"Untreated\" in path:\n",
    "                filename = \"Untreated Field \" + str(i+1) + \"-\" + j +\".csv\"\n",
    "            dataFile = pd.read_csv(path + \"/\" + filename, sep = \",\")\n",
    "            x_dis = dataFile.Distance\n",
    "            xraw = np.array(x_dis.values.tolist()) #x axis: distance\n",
    "            \n",
    "            y_gv = dataFile.Gray_Value \n",
    "            yraw = np.array(y_gv.values.tolist()) #y axis: gray values\n",
    "            if j ==\"ST3\":\n",
    "                x1, y1 = puncta(xraw, yraw)\n",
    "                xm1, ym1, L1, avgw1 = defpeak(x1, y1)\n",
    "                \n",
    "            else:\n",
    "                x2, y2, = puncta(xraw, yraw)\n",
    "                xm2, ym2, L2, avgw2 = defpeak(x2, y2)\n",
    "        \n",
    "        list_off = compare(L1, L2, xm1, xm2, x1, x2)\n",
    "        print(list_off)\n",
    "        #list_off = compare2(xm1, xm2)\n",
    "        list_offset.extend(list_off)\n",
    "    \n",
    "    #Lists that will be averaged to produce the graphs\n",
    "    return list_offset"
   ]
  },
  {
   "cell_type": "code",
   "execution_count": null,
   "metadata": {},
   "outputs": [],
   "source": []
  },
  {
   "cell_type": "code",
   "execution_count": 6,
   "metadata": {},
   "outputs": [],
   "source": [
    "#Drive might change depending on computer\n",
    "drive = \"E\"\n",
    "\n",
    "#ST3 - EEA1 experiments\n",
    "path_bic = drive + \":/Green Lab/2020 Data Analysis/Ok/ST3-EEA1 CSV files/Bicucculine\"\n",
    "path_con = drive + \":/Green Lab/2020 Data Analysis/Ok/ST3-EEA1 CSV files/Untreated\"\n",
    "\n",
    "#ST3 - WGA experiments\n",
    "path_bicW = drive + \":/Green Lab/2020 Data Analysis/Ok/ST3-WGA CSV Files/Bicucculine\"\n",
    "path_conW = drive + \":/Green Lab/2020 Data Analysis/Ok/ST3-WGA CSV Files/Untreated\"\n",
    "\n",
    "#Conditions within each experiment to be analyzed\n",
    "cond = [\"EEA1\", \"ST3\"] #initial set of data\n",
    "cond2 = [\"ST3\", \"WGA\"] #second set from WGA Experiments\n",
    "\n",
    "#Remember that x is in microns and y is in gray value with steps of s=0.1315 micron"
   ]
  },
  {
   "cell_type": "code",
   "execution_count": 7,
   "metadata": {},
   "outputs": [
    {
     "name": "stdout",
     "output_type": "stream",
     "text": [
      "[-0.7889999999999999, -1.7095, -0.5259999999999999, -1.4465, 1.315, 0.39449999999999985, -1.052, 1.4465, 0.0, 0.7890000000000001, -1.7095000000000002, -0.2629999999999999, 0.39449999999999985, -1.4464999999999995, 0.6575000000000006, -1.9725000000000001, -0.2629999999999999]\n",
      "[-0.9205000000000001, 1.7094999999999994, -1.7095000000000002, 0.0, 0.39450000000000074, 0.13149999999999906, 0.0, 1.1835000000000022, 0.39450000000000074, -0.13149999999999906]\n",
      "[0.13149999999999995, -0.2630000000000001, 1.4464999999999995, 0.2629999999999999, 1.4465000000000003, 0.5259999999999998, -0.13150000000000084, -0.6574999999999989, -1.3150000000000013, -1.9725000000000001, 1.709500000000002, 1.0520000000000014, 0.5260000000000034, -0.13149999999999906, -0.7889999999999979, -1.5779999999999994, 1.7095000000000002, 1.1835000000000022, 0.5259999999999998, -0.13149999999999906, -0.9205000000000005, 1.5779999999999994, 0.9205000000000005, 0.13149999999999906, 1.5779999999999994, 0.7889999999999979, 1.4464999999999968]\n",
      "[-0.13149999999999995, -0.7889999999999999, -1.4465, 0.6575, 0.0, -0.6575, -1.5780000000000003, 0.9205000000000005, -0.2629999999999999, 0.6574999999999989, -1.1835000000000004, -0.7890000000000015]\n",
      "[0.13150000000000006, -0.7889999999999979, 0.0, -1.4465000000000021, -1.8410000000000029, 1.9724999999999984, -0.39450000000000074]\n",
      "[-1.9725000000000001, 1.7095000000000002, 0.0, -1.4465000000000003, 1.9725000000000001, 0.5259999999999998, -0.13149999999999906, 1.0519999999999996, -1.3150000000000013, -0.2630000000000017, -1.1834999999999987]\n",
      "[0.0, -0.7889999999999999, 0.526, -0.2629999999999999, -1.7094999999999998, 1.1834999999999998, 0.39449999999999985, -1.052, 1.5779999999999998, 0.13149999999999995, 0.6574999999999989, -0.2629999999999999, 1.1835000000000004, -1.3149999999999995, -1.9725000000000001, 0.13150000000000084, -0.5259999999999998, 0.9205000000000005, 0.2629999999999999, 0.0, 1.3150000000000013, 1.9725000000000037, -1.4464999999999968]\n",
      "[-0.9204999999999999, 0.2630000000000001, -1.4465, 1.578, -0.13149999999999995, -1.052, 0.9205000000000001, 0.0, -1.4464999999999995, 0.9205000000000005, 1.9725000000000001, -1.4465000000000003, -1.841000000000001, -0.39450000000000074, -0.7890000000000015, -0.13149999999999906, -1.709500000000002, 1.3150000000000013, -0.2630000000000017, -1.5779999999999994, 1.4465000000000003, -0.5259999999999998, -1.0519999999999996, -1.4464999999999968, -1.841000000000001, 1.9725000000000001, 1.578000000000003, -1.0519999999999996, -1.8409999999999975, 1.3149999999999977, 0.5259999999999998, -0.13150000000000261, -0.6575000000000024]\n",
      "[0.0, -1.841, 1.8410000000000002, -1.9725000000000001, 0.0, -1.0519999999999996, 1.8409999999999993, 0.7889999999999997, 1.3149999999999995, 0.0, 1.3150000000000013, -0.920499999999997, -1.3149999999999977, 0.13150000000000261, -0.2629999999999981, 0.9205000000000005, 0.5259999999999998, 1.578000000000003, 1.1835000000000022]\n",
      "[-1.7095, -1.1835, -0.7889999999999999, 0.5260000000000002, -1.0519999999999996, 1.315, -0.2629999999999999, -1.315, 1.9725000000000001, 0.3945000000000003, -0.6574999999999998, 1.052, 0.0, -1.5780000000000003, 1.8409999999999993, 0.262999999999999, -0.6575000000000006, 1.0520000000000005, 0.13150000000000084, -1.9725000000000001, 1.0519999999999996, -1.0519999999999996, 1.7095000000000002, -0.39449999999999896]\n",
      "[-0.9205000000000001, 0.0, 0.13149999999999906, -0.39450000000000074, -0.9205000000000005, 1.9725000000000001, 1.4465000000000003, 0.9205000000000005, -0.5259999999999998, -1.1835000000000004, 1.7095000000000002, 0.2629999999999999, -0.39450000000000074, -1.7095000000000002, 0.6575000000000006, 0.0, -1.3149999999999995, 1.4465000000000003, 0.7889999999999997, -0.5259999999999998, -1.5779999999999994, 1.5779999999999994, 0.2629999999999999, -0.7889999999999997, -1.4465000000000003, 1.0519999999999996, 0.0, -0.6575000000000006, 0.6575000000000024, 0.2630000000000017, -1.0519999999999996, 1.841000000000001, 1.4465000000000003, 0.13149999999999906, 0.7889999999999979, 1.0519999999999996, 0.39450000000000074, -0.13150000000000261, 1.9724999999999966, 1.3149999999999977, 0.7889999999999944]\n",
      "[0.526, 0.13149999999999995, -0.2629999999999999, -1.7095000000000002, 1.8410000000000002, 1.4465000000000003, 0.0, -0.6574999999999998, -0.9204999999999997, -1.3149999999999995, -0.2629999999999999, -0.6574999999999998, 0.39450000000000074, 0.2630000000000017, -0.5259999999999998, -0.7889999999999979]\n",
      "[-0.5259999999999998, -1.1834999999999996, -0.13149999999999995, -0.7889999999999997, 0.1315000000000004, -0.5259999999999994, 0.7890000000000001, 0.1315000000000004, -0.13149999999999995, -1.4464999999999995, 1.0519999999999996, -0.2629999999999999, -1.8409999999999993, 1.8409999999999993, 0.5259999999999998, -1.0519999999999996, 1.9725000000000001, 0.39450000000000074, -0.6575000000000006, -1.5780000000000012, 1.0520000000000014, 0.0, -0.9205000000000005]\n",
      "[0.13149999999999995, -1.1834999999999996, 0.0]\n",
      "[-1.0519999999999996, -0.3944999999999972, -1.0519999999999996, -1.4465000000000003, 0.2630000000000017, -0.39450000000000074, -0.7890000000000015, 1.0520000000000032, 0.39450000000000074, 0.0, 1.4465000000000003, 1.0519999999999996, 0.7890000000000015, 0.5259999999999998, -1.3150000000000048, -0.9205000000000041]\n",
      "[0.7890000000000001, 0.13149999999999995, -0.9204999999999997, 1.5779999999999998, 0.9204999999999997, -0.13149999999999995, -1.9725000000000006, -0.13149999999999906, -1.3149999999999995, 0.5260000000000016, -0.6574999999999989, 1.1835000000000004, 0.0, 1.709500000000002, 0.5260000000000016, -1.7095000000000002, 1.4464999999999986, -1.7094999999999985, -1.3150000000000013, 0.2630000000000017]\n",
      "[0.26299999999999996, -0.7889999999999999, -1.7095, 1.1835, 0.13150000000000017, -0.7889999999999999, 1.1835, 0.2629999999999999, -1.4465000000000003, 1.7095000000000002, 0.7890000000000001, -0.9205000000000001, 1.5779999999999998, -0.1315000000000004, 1.9725000000000001, 0.2629999999999999, 0.9204999999999997, 1.8410000000000002, -1.7095000000000002, -0.2629999999999999, -1.4464999999999986, 0.2629999999999999, -0.9204999999999988, 1.1834999999999987, 0.0, 1.1835000000000004, -1.972500000000002, -0.6575000000000006, -1.8409999999999993, 0.13149999999999906, -1.0519999999999996, 1.9725000000000001, 0.7890000000000015, -0.2629999999999981, -0.6574999999999989, -1.3149999999999977, 1.5779999999999994, 1.1834999999999987, 0.5259999999999998, -1.1834999999999987, 1.841000000000001, 1.1835000000000022, -0.5259999999999962, 1.9725000000000001, 0.2630000000000017]\n",
      "[0.0, -0.9205000000000001, -1.1835, -1.5780000000000003, 0.3945000000000003, -0.5259999999999998, -0.7889999999999997, -1.1835, 1.052, 0.13149999999999995, -0.13149999999999995, -0.5260000000000002, 0.2629999999999999, 0.9205000000000005, -0.7890000000000015, -0.2629999999999999, 0.9205000000000005, -0.13149999999999906, -0.5259999999999998, 1.9725000000000001, 0.9205000000000005, 0.5259999999999998]\n",
      "[1.0519999999999998, 0.0, 1.9724999999999997, -1.4465000000000003, 0.13149999999999995, -0.13149999999999995, 1.841000000000001, -0.7889999999999979, -1.8409999999999993, 1.1835000000000004, 0.13149999999999906, 1.7095000000000002]\n",
      "[-1.1835, -1.7094999999999998, 0.6574999999999998, 0.13149999999999995, 1.4464999999999986, 0.13149999999999906]\n",
      "[1.8409999999999997, 1.315, 0.0, 0.13149999999999906, 0.0, -1.972500000000002, 0.0, 1.8409999999999975]\n",
      "[0.0, 0.9204999999999988, 1.3149999999999995, -1.7095000000000002, -0.7889999999999997, 0.13149999999999906]\n",
      "[0.0, -0.39450000000000074]\n",
      "[0.1315000000000004, -0.9204999999999997, 0.9205000000000001, -0.13149999999999995]\n",
      "[0.0, -0.6575, 0.6575, 0.0, -0.13149999999999906, -1.8409999999999993, 1.5780000000000012, -0.13149999999999906, 1.5779999999999994]\n",
      "[0.7890000000000001, 0.13149999999999995, 1.3150000000000013]\n",
      "[-0.3944999999999994, 0.0, 0.0]\n",
      "[0.0, -0.5259999999999998, -1.8409999999999993, 0.5259999999999998, 0.0, -1.3149999999999995, 1.3149999999999995, 0.7889999999999997, -0.5259999999999998, -1.3149999999999995, 1.8409999999999993, 1.3149999999999995, 0.0, -0.7889999999999997, 0.7889999999999997, 0.0, -1.5780000000000012]\n",
      "[-1.1835, -0.526, 0.13150000000000017, 0.9205000000000003, -1.5779999999999998, 0.13149999999999995, 0.13150000000000084, -1.1835000000000004]\n",
      "[0.0, -0.7889999999999999, 0.9205000000000003, 0.1315000000000004, -1.1835, 1.9725000000000001, 0.6574999999999998, -1.1835000000000004, -0.6575000000000006, 0.0]\n",
      "[0.0, 0.5259999999999998, 0.13149999999999995, -1.5780000000000003, 1.1835000000000004, -0.5259999999999998, 0.0, -1.3149999999999995, 0.6575000000000006, -0.6574999999999989, 1.4465000000000003, 0.13150000000000084, -1.7095000000000002]\n",
      "[0.6575, 0.0, 0.0, 0.0, -0.5259999999999998, -0.9205000000000005, 0.39449999999999896, -0.13150000000000084, -0.5260000000000016, 0.9205000000000005, 0.39450000000000074, 0.0, 0.0, 0.7889999999999979, -1.3150000000000013, -0.9205000000000005, -1.841000000000001, -0.13150000000000261, -1.0520000000000032]\n",
      "[1.4465, 1.052, 0.0, 1.1835]\n",
      "[1.5780000000000012, -1.7095000000000002, 0.13150000000000084, -0.525999999999998, -1.1834999999999987]\n",
      "[0.0, 0.0, -1.0519999999999996, -1.8410000000000002, 1.0519999999999996, 0.0, -0.7890000000000006, 1.9724999999999993, 0.9204999999999997, 0.13149999999999906, 0.0, -1.1834999999999987, 0.9204999999999988, -0.7890000000000015]\n",
      "[0.0, 0.0, -0.39449999999999896, -1.3150000000000013, 0.5259999999999998, 0.13150000000000084, -0.7890000000000015, 1.3150000000000013, 0.9205000000000023, 0.0]\n"
     ]
    },
    {
     "data": {
      "image/png": "[encoded data removed]",
      "text/plain": [
       "<Figure size 432x288 with 1 Axes>"
      ]
     },
     "metadata": {
      "needs_background": "light"
     },
     "output_type": "display_data"
    }
   ],
   "source": [
    "#This function further symplifies the process of graphing\n",
    "def hplot(path, condition):\n",
    "    data = ANALYSIS(path, condition)\n",
    "    if \"Bicucculine\" in path:\n",
    "        name = \"Bicucculine Field\"\n",
    "    elif \"Untreated\" in path:\n",
    "        name = \"Untreated Field\"\n",
    "    plt.hist(data)\n",
    "    plt.title(\"Offset Between \" + condition[0] + \" and \" + condition[1] + \" Centroids in \" + name)\n",
    "    plt.xlabel(\"Offset (\" + r'$\\mu$' + \"m)\")\n",
    "    plt.ylabel(\"Number of Puncta\")\n",
    "\n",
    "hplot(path_bic, cond)\n",
    "hplot(path_con, cond)\n",
    "hplot(path_bicW, cond2)\n",
    "hplot(path_conW, cond2)"
   ]
  }
 ],
 "metadata": {
  "kernelspec": {
   "display_name": "Python 3",
   "language": "python",
   "name": "python3"
  },
  "language_info": {
   "codemirror_mode": {
    "name": "ipython",
    "version": 3
   },
   "file_extension": ".py",
   "mimetype": "text/x-python",
   "name": "python",
   "nbconvert_exporter": "python",
   "pygments_lexer": "ipython3",
   "version": "3.6.9"
  }
 },
 "nbformat": 4,
 "nbformat_minor": 4
}
